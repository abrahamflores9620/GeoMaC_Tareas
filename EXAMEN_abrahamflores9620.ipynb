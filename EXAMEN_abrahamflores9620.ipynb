{
 "cells": [
  {
   "cell_type": "code",
   "execution_count": 2,
   "metadata": {},
   "outputs": [],
   "source": [
    "#FLORES MIRANDA ABRAHAM\n",
    "\n",
    "import numpy as np\n",
    "import matplotlib.pyplot as plt\n",
    "%matplotlib inline"
   ]
  },
  {
   "cell_type": "markdown",
   "metadata": {},
   "source": [
    "Ejercicio 3.¶\n",
    "Calcular el error absoluto y relativo de las siguientes aproximaciones:\n",
    "\n",
    "a)𝑝=𝜋,𝑝𝑎=22/7\n",
    "b)𝑝=𝑒^(10),𝑝𝑎=22000\n",
    "c)𝑝=10^(pi),𝑝𝑎=1400\n",
    "d)𝑝=9!,𝑝𝑎=(18*(pi)(9/e)^9)^1/2 \n",
    "\n",
    "print(Ea)\n",
    "Er=Ea/np.fabs(np.pi)\n",
    "print(Er)\n",
    "\n",
    "print('Error absoluto={:.20f}'.format(Ea))\n",
    "print('Error relativo={:.20f}'.format(Er))"
   ]
  },
  {
   "cell_type": "markdown",
   "metadata": {},
   "source": [
    "a)𝑝=𝜋,𝑝𝑎=22/7"
   ]
  },
  {
   "cell_type": "code",
   "execution_count": 2,
   "metadata": {},
   "outputs": [
    {
     "name": "stdout",
     "output_type": "stream",
     "text": [
      "0.0012644892673496777\n",
      "0.0004024994347707008\n",
      "Error absoluto=0.00126448926734967770\n",
      "Error relativo=0.00040249943477070079\n"
     ]
    }
   ],
   "source": [
    "Ea=np.fabs(np.pi-22/7)\n",
    "print(Ea)\n",
    "Er=Ea/np.fabs(np.pi)\n",
    "print(Er)\n",
    "\n",
    "print('Error absoluto={:.20f}'.format(Ea))\n",
    "print('Error relativo={:.20f}'.format(Er))"
   ]
  },
  {
   "cell_type": "markdown",
   "metadata": {},
   "source": [
    "b)𝑝=𝑒^(10),𝑝𝑎=22000"
   ]
  },
  {
   "cell_type": "code",
   "execution_count": 6,
   "metadata": {},
   "outputs": [
    {
     "name": "stdout",
     "output_type": "stream",
     "text": [
      "26.465794806703343\n",
      "0.0012015452253326688\n",
      "Error absoluto=26.46579480670334305614\n",
      "Error relativo=0.00120154522533266880\n"
     ]
    }
   ],
   "source": [
    "Ea=np.fabs(np.e**10-22000)\n",
    "print(Ea)\n",
    "Er=Ea/np.fabs(np.e**10)\n",
    "print(Er)\n",
    "\n",
    "print('Error absoluto={:.20f}'.format(Ea))\n",
    "print('Error relativo={:.20f}'.format(Er))"
   ]
  },
  {
   "cell_type": "markdown",
   "metadata": {},
   "source": [
    "c)𝑝=10^(pi),𝑝𝑎=1400"
   ]
  },
  {
   "cell_type": "code",
   "execution_count": 4,
   "metadata": {},
   "outputs": [
    {
     "name": "stdout",
     "output_type": "stream",
     "text": [
      "14.544268632989315\n",
      "0.010497822704619136\n",
      "Error absoluto=14.54426863298931493773\n",
      "Error relativo=0.01049782270461913601\n"
     ]
    }
   ],
   "source": [
    "Ea=np.fabs(10**np.pi-1400)\n",
    "print(Ea)\n",
    "Er=Ea/np.fabs(10**np.pi)\n",
    "print(Er)\n",
    "\n",
    "print('Error absoluto={:.20f}'.format(Ea))\n",
    "print('Error relativo={:.20f}'.format(Er))"
   ]
  },
  {
   "cell_type": "markdown",
   "metadata": {},
   "source": [
    "d)𝑝=9!,𝑝𝑎=(18*(pi)(9/e)^9)^1/2 "
   ]
  },
  {
   "cell_type": "code",
   "execution_count": 5,
   "metadata": {},
   "outputs": [
    {
     "name": "stdout",
     "output_type": "stream",
     "text": [
      "3343.1271580516477\n",
      "0.009212762230080598\n"
     ]
    }
   ],
   "source": [
    "fac=np.math.factorial(9)\n",
    "Ea=fac-((18*np.pi)**(1/2))*(9/np.e)**9\n",
    "print(Ea)\n",
    "Er=Ea/fac\n",
    "print(Er)"
   ]
  },
  {
   "cell_type": "markdown",
   "metadata": {},
   "source": [
    "EN QUE INTERVALO LA DERIVADA SE HACE CERO \n",
    "\n",
    "a.  𝑓(𝑥)=1−𝑒𝑥+(𝑒−1)sin(𝜋𝑥/2), \n",
    "b.  𝑓(𝑥)=(𝑥−1)tan𝑥+𝑥sin𝜋𝑥, \n",
    "c.  𝑓(𝑥)=𝑥sin𝜋𝑥−(𝑥−2)ln𝑥, \n",
    "d.  𝑓(𝑥)=(𝑥−2)sin𝑥ln(𝑥+2), \n"
   ]
  },
  {
   "cell_type": "code",
   "execution_count": 23,
   "metadata": {},
   "outputs": [
    {
     "data": {
      "image/png": "[encoded data removed]",
      "text/plain": [
       "<Figure size 432x288 with 1 Axes>"
      ]
     },
     "metadata": {
      "needs_background": "light"
     },
     "output_type": "display_data"
    }
   ],
   "source": [
    "# Función a ser evaluada\n",
    "y = lambda x: 1-np.exp(x)+(np.exp(1)-1)*np.sin(np.pi*x/2)\n",
    "\n",
    "# Dominio de la función\n",
    "xmin = -1\n",
    "xmax = 0\n",
    "x = np.linspace(xmin, xmax, 100)\n",
    "\n",
    "A = 0 # Extremo izquierdo del intervalo\n",
    "B = 1 # Extremo derecho del intervalo\n",
    "\n",
    "# Gráfica de la función\n",
    "plt.plot(x,y(x), 'r-', lw=2)\n",
    "\n",
    "# Líneas verticales en los extremos del intervalo y línea en y = 0\n",
    "ymin = np.min(y(x))\n",
    "ymax = np.max(y(x))\n",
    "plt.plot([A,A], [ymin,ymax], 'g--', lw=1)\n",
    "plt.plot([B,B], [ymin,ymax], 'g--', lw=1)\n",
    "plt.plot([xmin, xmax], [0,0], 'b-', lw=1)\n",
    "\n",
    "plt.grid()\n",
    "plt.show()"
   ]
  },
  {
   "cell_type": "code",
   "execution_count": 22,
   "metadata": {},
   "outputs": [
    {
     "data": {
      "image/png": "[encoded data removed]",
      "text/plain": [
       "<Figure size 432x288 with 1 Axes>"
      ]
     },
     "metadata": {
      "needs_background": "light"
     },
     "output_type": "display_data"
    }
   ],
   "source": [
    "# Función a ser evaluada\n",
    "# B)\n",
    "y = lambda x: (x-1)*np.tan(x)+x*np.sin(np.pi*x) \n",
    "\n",
    "# Dominio de la función\n",
    "xmin = -1\n",
    "xmax = 0\n",
    "x = np.linspace(xmin, xmax, 100)\n",
    "\n",
    "A = 0 # Extremo izquierdo del intervalo\n",
    "B = 0.4 # Extremo derecho del intervalo\n",
    "\n",
    "# Gráfica de la función\n",
    "plt.plot(x,y(x), 'r-', lw=2)\n",
    "\n",
    "# Líneas verticales en los extremos del intervalo y línea en y = 0\n",
    "ymin = np.min(y(x))\n",
    "ymax = np.max(y(x))\n",
    "plt.plot([A,A], [ymin,ymax], 'g--', lw=1)\n",
    "plt.plot([B,B], [ymin,ymax], 'g--', lw=1)\n",
    "plt.plot([xmin, xmax], [0,0], 'b-', lw=1)\n",
    "\n",
    "plt.grid()\n",
    "plt.show()"
   ]
  },
  {
   "cell_type": "code",
   "execution_count": 24,
   "metadata": {},
   "outputs": [
    {
     "name": "stderr",
     "output_type": "stream",
     "text": [
      "<ipython-input-24-63385e7615b6>:3: RuntimeWarning: divide by zero encountered in log\n",
      "  y = lambda x: x * np.sin(np.pi*x)-(x-2)*np.log(x)\n",
      "<ipython-input-24-63385e7615b6>:3: RuntimeWarning: invalid value encountered in log\n",
      "  y = lambda x: x * np.sin(np.pi*x)-(x-2)*np.log(x)\n",
      "<ipython-input-24-63385e7615b6>:3: RuntimeWarning: divide by zero encountered in log\n",
      "  y = lambda x: x * np.sin(np.pi*x)-(x-2)*np.log(x)\n",
      "<ipython-input-24-63385e7615b6>:3: RuntimeWarning: invalid value encountered in log\n",
      "  y = lambda x: x * np.sin(np.pi*x)-(x-2)*np.log(x)\n"
     ]
    },
    {
     "data": {
      "image/png": "[encoded data removed]",
      "text/plain": [
       "<Figure size 432x288 with 1 Axes>"
      ]
     },
     "metadata": {
      "needs_background": "light"
     },
     "output_type": "display_data"
    }
   ],
   "source": [
    "# Función a ser evaluada\n",
    "#C\n",
    "y = lambda x: x * np.sin(np.pi*x)-(x-2)*np.log(x)\n",
    "\n",
    "# Dominio de la función\n",
    "xmin = -1\n",
    "xmax = 0\n",
    "x = np.linspace(xmin, xmax, 100)\n",
    "\n",
    "A = 1 # Extremo izquierdo del intervalo\n",
    "B = 2 # Extremo derecho del intervalo\n",
    "\n",
    "# Gráfica de la función\n",
    "plt.plot(x,y(x), 'r-', lw=2)\n",
    "\n",
    "# Líneas verticales en los extremos del intervalo y línea en y = 0\n",
    "ymin = np.min(y(x))\n",
    "ymax = np.max(y(x))\n",
    "plt.plot([A,A], [ymin,ymax], 'g--', lw=1)\n",
    "plt.plot([B,B], [ymin,ymax], 'g--', lw=1)\n",
    "plt.plot([xmin, xmax], [0,0], 'b-', lw=1)\n",
    "\n",
    "plt.grid()\n",
    "plt.show()"
   ]
  },
  {
   "cell_type": "code",
   "execution_count": 26,
   "metadata": {},
   "outputs": [
    {
     "data": {
      "image/png": "[encoded data removed]",
      "text/plain": [
       "<Figure size 432x288 with 1 Axes>"
      ]
     },
     "metadata": {
      "needs_background": "light"
     },
     "output_type": "display_data"
    }
   ],
   "source": [
    "# Función a ser evaluada\n",
    "y = lambda x: (x-2)*np.sin(x)*np.log(x+2)\n",
    "\n",
    "# Dominio de la función\n",
    "xmin = -1\n",
    "xmax = 0\n",
    "x = np.linspace(xmin, xmax, 100)\n",
    "\n",
    "A = -1# Extremo izquierdo del intervalo\n",
    "B = 0 # Extremo derecho del intervalo\n",
    "\n",
    "# Gráfica de la función\n",
    "plt.plot(x,y(x), 'r-', lw=2)\n",
    "\n",
    "# Líneas verticales en los extremos del intervalo y línea en y = 0\n",
    "ymin = np.min(y(x))\n",
    "ymax = np.max(y(x))\n",
    "plt.plot([A,A], [ymin,ymax], 'g--', lw=1)\n",
    "plt.plot([B,B], [ymin,ymax], 'g--', lw=1)\n",
    "plt.plot([xmin, xmax], [0,0], 'b-', lw=1)\n",
    "\n",
    "plt.grid()\n",
    "plt.show()"
   ]
  },
  {
   "cell_type": "markdown",
   "metadata": {},
   "source": [
    "El polinomio de Taylor de grado $n$ de la función $f(x) = e^x$ es \n",
    "$\\displaystyle P_n(x) = \\sum_{i=0}^n \\frac{x^i}{i!}$. Usando el Polinomio de Taylor de grado $9$ podemos aproximar $e^{-5}$ usando los siguientes dos métodos:\n",
    "\n",
    "a. $\\displaystyle e^{-5} \\approx \\sum_{i=0}^n \\frac{(-5)^i}{i!} = \\sum_{i=0}^n \\frac{(-1)^i 5^i}{i!}$ <br>\n",
    "\n",
    "b. $\\displaystyle e^{-5} = \\frac{1}{e^5} \\approx \\frac{1}{\\sum_{i=0}^n \\frac{5^i}{i!}}$\n",
    "\n",
    "¿Cuál de los dos fórmulas anteriores da una mejor aproximación? ¿Por qué?"
   ]
  },
  {
   "cell_type": "code",
   "execution_count": 28,
   "metadata": {},
   "outputs": [],
   "source": [
    "def aprox_a(x,n):\n",
    "    suma = 0\n",
    "    for i in range(0,n+1):\n",
    "        suma += (-1)**i * 5**i/ np.math.factorial(i)\n",
    "    return suma    \n",
    "\n",
    "def aprox_b(x,n):\n",
    "    suma = 0\n",
    "    for i in range(0,n+1):\n",
    "        suma += (5)**i / np.math.factorial(i)\n",
    "    return 1 / suma"
   ]
  },
  {
   "cell_type": "code",
   "execution_count": 29,
   "metadata": {},
   "outputs": [
    {
     "name": "stdout",
     "output_type": "stream",
     "text": [
      "e = 0.0067379469990854670008451066109955718275159597396850586\n",
      "e = 0.0067455400977118173261315448030472907703369855880737305\n",
      "e = 0.0067379475454825100630418255320819298503920435905456543\n"
     ]
    }
   ],
   "source": [
    "x = -5\n",
    "n = 20\n",
    "e1 = aprox_a(x,n)\n",
    "e2 = aprox_b(x,n)\n",
    "\n",
    "print('e = {:.55f}'.format(np.exp(-5)))\n",
    "print('e = {:.55f}'.format(e1))\n",
    "print('e = {:.55f}'.format(e2))"
   ]
  },
  {
   "cell_type": "code",
   "execution_count": null,
   "metadata": {},
   "outputs": [],
   "source": [
    "# la de mejor aproximacion es la opcion del metodo b, ya que presenta una solucion mas precisa de la serie de taylo\n",
    "#para el exponente al presentar valores positivos y negativos siendo mas preciso."
   ]
  }
 ],
 "metadata": {
  "kernelspec": {
   "display_name": "Python 3",
   "language": "python",
   "name": "python3"
  },
  "language_info": {
   "codemirror_mode": {
    "name": "ipython",
    "version": 3
   },
   "file_extension": ".py",
   "mimetype": "text/x-python",
   "name": "python",
   "nbconvert_exporter": "python",
   "pygments_lexer": "ipython3",
   "version": "3.8.5"
  }
 },
 "nbformat": 4,
 "nbformat_minor": 4
}
